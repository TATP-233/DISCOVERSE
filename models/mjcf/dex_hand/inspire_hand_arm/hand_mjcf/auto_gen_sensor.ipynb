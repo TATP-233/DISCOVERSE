{
 "cells": [
  {
   "cell_type": "code",
   "execution_count": null,
   "metadata": {},
   "outputs": [],
   "source": [
    "part=\"palm\"\n",
    "row=8\n",
    "col=14\n",
    "site_str=\"<mujcocoinclude>\\n\"\n",
    "# <site name=\"palm_0_0\" rgba=\"0 0.8 1 1\" type=\"box\" size=\"0.0015 0.0006 0.0015\" pos=\"-0.0250 -0.0140 0.0900\"/>\n",
    "x_start=-0.0250\n",
    "z_start=0.0900\n",
    "\n",
    "for i in range(row):\n",
    "    for j in range(col):\n",
    "        z=round(z_start-i*0.0031,4)\n",
    "        x=round(x_start+j*0.0031,4)\n",
    "        site_str+=f\"<site name=\\\"{part}_{i}_{j}\\\" rgba=\\\"0 0.8 1 1\\\" type=\\\"box\\\" size=\\\"0.0015 0.002 0.0015\\\" pos=\\\"{x} -0.012 {z}\\\"/>\\n\"\n",
    "\n",
    "site_str+=\"</mujcocoinclude>\"\n",
    "print(site_str)\n",
    "with open(\"sensor_include/palm_site_include.xml\", \"w\") as f:\n",
    "    f.write(site_str)\n",
    "print(\"done\")\n"
   ]
  },
  {
   "cell_type": "code",
   "execution_count": null,
   "metadata": {},
   "outputs": [],
   "source": [
    "part=\"palm\"\n",
    "row=8\n",
    "col=14\n",
    "touch_str=\"<mujcocoinclude>\\n\"\n",
    "\n",
    "for i in range(row):\n",
    "    for j in range(col):\n",
    "        touch_str+='<touch name=\"{}_{}_{}\" site=\"{}_{}_{}\"/>\\n'.format(part,i,j,part,i,j)\n",
    "\n",
    "touch_str+=\"</mujcocoinclude>\"\n",
    "print(touch_str)\n",
    "\n",
    "with open(\"sensor_include/palm_touch_include.xml\", \"w\") as f:\n",
    "    f.write(touch_str)\n",
    "print(\"done\")"
   ]
  },
  {
   "cell_type": "code",
   "execution_count": null,
   "metadata": {},
   "outputs": [],
   "source": []
  }
 ],
 "metadata": {
  "kernelspec": {
   "display_name": "discoverse",
   "language": "python",
   "name": "python3"
  },
  "language_info": {
   "codemirror_mode": {
    "name": "ipython",
    "version": 3
   },
   "file_extension": ".py",
   "mimetype": "text/x-python",
   "name": "python",
   "nbconvert_exporter": "python",
   "pygments_lexer": "ipython3",
   "version": "3.12.8"
  }
 },
 "nbformat": 4,
 "nbformat_minor": 2
}
