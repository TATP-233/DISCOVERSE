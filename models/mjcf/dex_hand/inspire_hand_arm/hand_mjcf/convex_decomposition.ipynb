{
 "cells": [
  {
   "cell_type": "code",
   "execution_count": null,
   "metadata": {},
   "outputs": [],
   "source": [
    "import os\n",
    "import numpy as np\n",
    "import coacd\n",
    "import trimesh\n",
    "\n",
    "input_file = r\"/home/ltx/THU-AIR/AIR_winter/hand_asset/inspire_right_hand_model/meshes/right_little_2.STL\"\n",
    "\n",
    "\n",
    "mesh = trimesh.load(input_file, force=\"mesh\")\n",
    "mesh = coacd.Mesh(mesh.vertices, mesh.faces)\n",
    "parts = coacd.run_coacd(mesh) # a list of convex hulls."
   ]
  },
  {
   "cell_type": "code",
   "execution_count": null,
   "metadata": {},
   "outputs": [],
   "source": [
    "import shutil\n",
    "output_dir = input_file.replace(\".STL\", \"_convex_dec\")\n",
    "if os.path.exists(output_dir):\n",
    "    shutil.rmtree(output_dir)\n",
    "os.makedirs(output_dir)\n",
    "\n",
    "#------ different for each part\n",
    "rgba = \"0.203922 0.203922 0.203922 1\"\n",
    "\n",
    "asset_name = input_file.split(\"/\")[-1].replace(\".STL\", \"\")\n",
    "\n",
    "asset_config = \"\"\"\n",
    "<mujocoinclude>\n",
    "\"\"\"\n",
    "\n",
    "geom_config = \"\"\"\n",
    "<mujocoinclude>\n",
    "\"\"\".format(asset_name)\n",
    "\n",
    "for i, part in enumerate(parts):\n",
    "    output_file = os.path.join(output_dir, f\"part_{i}.obj\")\n",
    "    part_mesh = trimesh.Trimesh(vertices=part[0], faces=part[1])\n",
    "    part_mesh.export(output_file)\n",
    "    asset_config += '  <mesh name=\"{}_part_{}\" file=\"../meshes/{}_convex_dec/part_{}.obj\" scale=\"1 1 1\"/>\\n'.format(asset_name, i, asset_name, i)\n",
    "    geom_config += '  <geom type=\"mesh\" rgba=\"{}\" mesh=\"{}_part_{}\"/>\\n'.format(rgba, asset_name, i)\n",
    "    # body_config += ' class=\"obj_collision\"/>\\n'\n",
    "\n",
    "\n",
    "\n",
    "\n",
    "asset_config += \"</mujocoinclude>\\n\"\n",
    "print(asset_config)\n",
    "with open(f\"convex_dec_include/{asset_name}_asset_include.xml\", \"w\") as fa:\n",
    "    fa.write(asset_config)\n",
    "print(f\"{asset_name}_asset_include.xml 写入成功！\")\n",
    "\n",
    "\n",
    "\n",
    "\n",
    "geom_config += \"</mujocoinclude>\\n\"\n",
    "print(geom_config)\n",
    "with open(f\"convex_dec_include/{asset_name}_geom_include.xml\", \"w\") as fg:\n",
    "    fg.write(geom_config)\n",
    "print(f\"{asset_name}_geom_include.xml 写入成功！\")\n",
    "\n"
   ]
  },
  {
   "cell_type": "code",
   "execution_count": null,
   "metadata": {},
   "outputs": [],
   "source": []
  }
 ],
 "metadata": {
  "kernelspec": {
   "display_name": "discoverse",
   "language": "python",
   "name": "python3"
  },
  "language_info": {
   "codemirror_mode": {
    "name": "ipython",
    "version": 3
   },
   "file_extension": ".py",
   "mimetype": "text/x-python",
   "name": "python",
   "nbconvert_exporter": "python",
   "pygments_lexer": "ipython3",
   "version": "3.12.8"
  }
 },
 "nbformat": 4,
 "nbformat_minor": 2
}
